{
  "cells": [
    {
      "cell_type": "code",
      "execution_count": 3,
      "metadata": {
        "colab": {
          "base_uri": "https://localhost:8080/",
          "height": 216
        },
        "id": "-3JJxBv6cZwH",
        "outputId": "a13b1a31-a5fc-4370-f132-0dd5c4b0b9a9"
      },
      "outputs": [
        {
          "name": "stdout",
          "output_type": "stream",
          "text": [
            "Headers: ['\\ufeffNumber', 'Type', 'Answser', 'Question', 'example1', 'example2', 'example3', 'example4', 'example5']\n",
            "['1', '1', '3', '파이썬 제작자의 이름은?', '폰 노이만', '웰터 피츠', '귀도 반 로섬', '앨런 튜링', '데니스 리치']\n",
            "['2', '2', '리스트', '다양한 자료형의 집합이고 수정가능한 객체는? (3글자, 한글로)', '', '', '', '', '']\n",
            "['3', '3', 'X', 'C언어에서 Tensorflow를 사용할 수 있다', '', '', '', '', '']\n",
            "1. 객관식 형 문제입니다.\n",
            "0. 파이썬 제작자의 이름은?\n",
            "\t(1)웰터 피츠\n",
            "\t(2)앨런 튜링\n",
            "\t(3)데니스 리치\n",
            "\t(4)귀도 반 로섬\n",
            "\t(5)폰 노이만\n",
            "오답입니다.\n"
          ]
        },
        {
          "ename": "ValueError",
          "evalue": "'3' is not in list",
          "output_type": "error",
          "traceback": [
            "\u001b[1;31m---------------------------------------------------------------------------\u001b[0m",
            "\u001b[1;31mValueError\u001b[0m                                Traceback (most recent call last)",
            "Cell \u001b[1;32mIn[3], line 77\u001b[0m\n\u001b[0;32m     75\u001b[0m \u001b[38;5;28mprint\u001b[39m(\u001b[38;5;124mf\u001b[39m\u001b[38;5;124m\"\u001b[39m\u001b[38;5;132;01m{\u001b[39;00mi\u001b[38;5;241m+\u001b[39m\u001b[38;5;241m1\u001b[39m\u001b[38;5;132;01m}\u001b[39;00m\u001b[38;5;124m. \u001b[39m\u001b[38;5;132;01m{\u001b[39;00mQtype\u001b[38;5;132;01m}\u001b[39;00m\u001b[38;5;124m 형 문제입니다.\u001b[39m\u001b[38;5;124m\"\u001b[39m)\n\u001b[0;32m     76\u001b[0m \u001b[38;5;28;01mif\u001b[39;00m(Qtype \u001b[38;5;241m==\u001b[39m \u001b[38;5;124m\"\u001b[39m\u001b[38;5;124m객관식\u001b[39m\u001b[38;5;124m\"\u001b[39m):\n\u001b[1;32m---> 77\u001b[0m     \u001b[43mprintChoiceQ\u001b[49m\u001b[43m(\u001b[49m\u001b[43mi\u001b[49m\u001b[43m,\u001b[49m\u001b[43mdatas\u001b[49m\u001b[43m[\u001b[49m\u001b[43mi\u001b[49m\u001b[43m]\u001b[49m\u001b[43m)\u001b[49m\n\u001b[0;32m     78\u001b[0m \u001b[38;5;28;01melif\u001b[39;00m(Qtype \u001b[38;5;241m==\u001b[39m \u001b[38;5;124m\"\u001b[39m\u001b[38;5;124m단답형\u001b[39m\u001b[38;5;124m\"\u001b[39m):\n\u001b[0;32m     79\u001b[0m     printTypeQ(i, datas[i])\n",
            "Cell \u001b[1;32mIn[3], line 26\u001b[0m, in \u001b[0;36mprintChoiceQ\u001b[1;34m(num, Question)\u001b[0m\n\u001b[0;32m     24\u001b[0m \u001b[38;5;28;01melse\u001b[39;00m:\n\u001b[0;32m     25\u001b[0m     \u001b[38;5;28mprint\u001b[39m(\u001b[38;5;124m\"\u001b[39m\u001b[38;5;124m오답입니다.\u001b[39m\u001b[38;5;124m\"\u001b[39m)\n\u001b[1;32m---> 26\u001b[0m     \u001b[38;5;28mprint\u001b[39m(\u001b[38;5;124mf\u001b[39m\u001b[38;5;124m\"\u001b[39m\u001b[38;5;124m정답은 \u001b[39m\u001b[38;5;132;01m{\u001b[39;00m\u001b[43moptions\u001b[49m\u001b[38;5;241;43m.\u001b[39;49m\u001b[43mindex\u001b[49m\u001b[43m(\u001b[49m\u001b[43mQuestion\u001b[49m\u001b[43m[\u001b[49m\u001b[38;5;241;43m2\u001b[39;49m\u001b[43m]\u001b[49m\u001b[43m)\u001b[49m\u001b[38;5;241m+\u001b[39m\u001b[38;5;241m1\u001b[39m\u001b[38;5;132;01m}\u001b[39;00m\u001b[38;5;124m번 입니다.\u001b[39m\u001b[38;5;124m\"\u001b[39m)\n",
            "\u001b[1;31mValueError\u001b[0m: '3' is not in list"
          ]
        }
      ],
      "source": [
        "import csv\n",
        "import random\n",
        "\"\"\"\n",
        "**필드명**\n",
        "\n",
        "Question : 문제\n",
        "num : 문제번호\n",
        "answer : 입력받은 정답\n",
        "\n",
        "\"\"\"\n",
        "def printChoiceQ(num,Question): #객관식 문제 출력\n",
        "    print(f\"{num}. {Question[3]}\") #문제 출력\n",
        "    options = Question[4:9] \n",
        "    random.shuffle(options) #보기 랜덤하게 섞음\n",
        "    \n",
        "    # 섞인 보기 출력\n",
        "    for i, option in enumerate(options):\n",
        "        print(f\"\\t({i+1}){option}\")\n",
        "    anwser = int(input(\"정답: \"))\n",
        "    anwser -= 1\n",
        "\n",
        "    if(options[anwser]==Question[2]): #선택한 보기랑 정답에 값이 같으면\n",
        "        print(\"정답입니다.\")\n",
        "    else:\n",
        "        print(\"오답입니다.\")\n",
        "        print(f\"정답은 {options.index(Question[2])+1}번 입니다.\") #정답 번호 출력\n",
        "\n",
        "def printTypeQ(num, Question): #주관식 문제 출력\n",
        "    print(f\"{num}. {Question[3]}\")\n",
        "    anwser = input(\"정답을 입력하세요: \")\n",
        "    if(anwser == Question[2]):\n",
        "        print(\"정답입니다.\")\n",
        "    else:\n",
        "        print(\"오답입니다.\")\n",
        "        print(f\"정답은 {Question[2]}입니다.\")\n",
        "\n",
        "\n",
        "def getQuestionType(type): # 문제 유형\n",
        "    typev = int(type[1])\n",
        "    match typev:\n",
        "        case 1:\n",
        "            return \"객관식\"\n",
        "        case 2:\n",
        "            return \"단답형\"\n",
        "        case 3:\n",
        "            return \"O, X\"\n",
        "\n",
        "\n",
        "# CSV 파일 경로 지정\n",
        "file_path = 'ExampleQuestion.csv'\n",
        "\n",
        "# 제목과 데이터를 담을 리스트 생성\n",
        "headers = []\n",
        "datas = []\n",
        "\n",
        "# CSV 파일 읽기\n",
        "with open(file_path, mode='r', encoding='utf-8') as file:\n",
        "    reader = csv.reader(file)\n",
        "\n",
        "    # 첫 번째 행은 제목으로 저장\n",
        "    headers = next(reader)\n",
        "\n",
        "    # 나머지 행은 데이터를 저장\n",
        "    for row in reader:\n",
        "        datas.append(row[:9])  # 첫 9개 열만 가져옴\n",
        "\n",
        "print(\"Headers:\", headers)\n",
        "for data in datas:\n",
        "    print(data)\n",
        "\n",
        "count = int(input(\"몇 문재를 풀 것인지 정해주세요.\"))\n",
        "\n",
        "for i in range(count):\n",
        "    Qtype = getQuestionType(datas[i])\n",
        "    # print(f\"{i+1}. {Qtype} 형 문제입니다.\")\n",
        "    if(Qtype == \"객관식\"):\n",
        "        printChoiceQ(i,datas[i])\n",
        "    elif(Qtype == \"단답형\"):\n",
        "        printTypeQ(i, datas[i])\n",
        "    elif(Qtype == \"O, X\"):\n",
        "        print('OX')\n",
        "\n",
        "# print(getQuestionType(datas[0]))"
      ]
    },
    {
      "cell_type": "code",
      "execution_count": null,
      "metadata": {},
      "outputs": [],
      "source": []
    }
  ],
  "metadata": {
    "colab": {
      "authorship_tag": "ABX9TyMyTbvGFZPsm6iYmfkyzExW",
      "include_colab_link": true,
      "provenance": []
    },
    "kernelspec": {
      "display_name": "Python 3",
      "name": "python3"
    },
    "language_info": {
      "codemirror_mode": {
        "name": "ipython",
        "version": 3
      },
      "file_extension": ".py",
      "mimetype": "text/x-python",
      "name": "python",
      "nbconvert_exporter": "python",
      "pygments_lexer": "ipython3",
      "version": "3.12.4"
    }
  },
  "nbformat": 4,
  "nbformat_minor": 0
}
