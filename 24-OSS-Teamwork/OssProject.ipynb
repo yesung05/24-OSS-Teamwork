{
  "nbformat": 4,
  "nbformat_minor": 0,
  "metadata": {
    "colab": {
      "provenance": [],
      "authorship_tag": "ABX9TyMyTbvGFZPsm6iYmfkyzExW",
      "include_colab_link": true
    },
    "kernelspec": {
      "name": "python3",
      "display_name": "Python 3"
    },
    "language_info": {
      "name": "python"
    }
  },
  "cells": [
    {
      "cell_type": "markdown",
      "metadata": {
        "id": "view-in-github",
        "colab_type": "text"
      },
      "source": [
        "<a href=\"https://colab.research.google.com/github/bengaldr0gon/24-OSS-Teamwork/blob/main/OssProject.ipynb\" target=\"_parent\"><img src=\"https://colab.research.google.com/assets/colab-badge.svg\" alt=\"Open In Colab\"/></a>"
      ]
    },
    {
      "cell_type": "code",
      "execution_count": 2,
      "metadata": {
        "colab": {
          "base_uri": "https://localhost:8080/",
          "height": 216
        },
        "id": "-3JJxBv6cZwH",
        "outputId": "a13b1a31-a5fc-4370-f132-0dd5c4b0b9a9"
      },
      "outputs": [
        {
          "output_type": "error",
          "ename": "FileNotFoundError",
          "evalue": "[Errno 2] No such file or directory: 'ExampleQuestion.csv'",
          "traceback": [
            "\u001b[0;31m---------------------------------------------------------------------------\u001b[0m",
            "\u001b[0;31mFileNotFoundError\u001b[0m                         Traceback (most recent call last)",
            "\u001b[0;32m<ipython-input-2-8aa882c14e2a>\u001b[0m in \u001b[0;36m<cell line: 45>\u001b[0;34m()\u001b[0m\n\u001b[1;32m     43\u001b[0m \u001b[0;34m\u001b[0m\u001b[0m\n\u001b[1;32m     44\u001b[0m \u001b[0;31m# CSV 파일 읽기\u001b[0m\u001b[0;34m\u001b[0m\u001b[0;34m\u001b[0m\u001b[0m\n\u001b[0;32m---> 45\u001b[0;31m \u001b[0;32mwith\u001b[0m \u001b[0mopen\u001b[0m\u001b[0;34m(\u001b[0m\u001b[0mfile_path\u001b[0m\u001b[0;34m,\u001b[0m \u001b[0mmode\u001b[0m\u001b[0;34m=\u001b[0m\u001b[0;34m'r'\u001b[0m\u001b[0;34m,\u001b[0m \u001b[0mencoding\u001b[0m\u001b[0;34m=\u001b[0m\u001b[0;34m'utf-8'\u001b[0m\u001b[0;34m)\u001b[0m \u001b[0;32mas\u001b[0m \u001b[0mfile\u001b[0m\u001b[0;34m:\u001b[0m\u001b[0;34m\u001b[0m\u001b[0;34m\u001b[0m\u001b[0m\n\u001b[0m\u001b[1;32m     46\u001b[0m     \u001b[0mreader\u001b[0m \u001b[0;34m=\u001b[0m \u001b[0mcsv\u001b[0m\u001b[0;34m.\u001b[0m\u001b[0mreader\u001b[0m\u001b[0;34m(\u001b[0m\u001b[0mfile\u001b[0m\u001b[0;34m)\u001b[0m\u001b[0;34m\u001b[0m\u001b[0;34m\u001b[0m\u001b[0m\n\u001b[1;32m     47\u001b[0m \u001b[0;34m\u001b[0m\u001b[0m\n",
            "\u001b[0;31mFileNotFoundError\u001b[0m: [Errno 2] No such file or directory: 'ExampleQuestion.csv'"
          ]
        }
      ],
      "source": [
        "import csv\n",
        "\"\"\"\n",
        "**필드명**\n",
        "\n",
        "Question : 문제\n",
        "num : 문제번호\n",
        "answer : 입력받은 정답\n",
        "\n",
        "\"\"\"\n",
        "def printChoiceQ(num,Question): # 객관식 문제 함수\n",
        "    print(f\"{num}. {Question[3]}\")\n",
        "    for i in range(5):\n",
        "        print(f\"\\t({i+1}){Question[4+i]}\")\n",
        "    anwser = int(input(\"정답: \"))\n",
        "    anwser -= 1\n",
        "    if(Question[4+anwser]==Question[2]):\n",
        "        print(\"정답입니다.\")\n",
        "    else:\n",
        "        print(\"오답입니다.\")\n",
        "        print(f\"정답은 {Question[4:].index(Question[2])+1}입니다.\")\n",
        "\n",
        "\n",
        "def printSubQ(num,Question): # 단답형 문제 함수\n",
        "    print(f\"{num}. {Question[3]}\")\n",
        "    answer = input(\"정답: \")\n",
        "    if(Question[2]==answer):\n",
        "        print(\"정답입니다.\")\n",
        "    else:\n",
        "        print(\"오답입니다.\")\n",
        "        print(f\"정답은 {Question[2]}입니다.\")\n",
        "\n",
        "\n",
        "\n",
        "\n",
        "def getQuestionType(type): # 문제 유형\n",
        "    typev = int(type[1])\n",
        "    match typev:\n",
        "        case 1:\n",
        "            return \"객관식\"\n",
        "        case 2:\n",
        "            return \"단답형\"\n",
        "        case 3:\n",
        "            return \"O, X\"\n",
        "\n",
        "\n",
        "# CSV 파일 경로 지정\n",
        "file_path = 'ExampleQuestion.csv'\n",
        "\n",
        "# 제목과 데이터를 담을 리스트 생성\n",
        "headers = []\n",
        "datas = []\n",
        "\n",
        "# CSV 파일 읽기\n",
        "with open(file_path, mode='r', encoding='utf-8') as file:\n",
        "    reader = csv.reader(file)\n",
        "\n",
        "    # 첫 번째 행은 제목으로 저장\n",
        "    headers = next(reader)\n",
        "\n",
        "    # 나머지 행은 데이터를 저장\n",
        "    for row in reader:\n",
        "        datas.append(row[:9])  # 첫 9개 열만 가져옴\n",
        "\n",
        "print(\"Headers:\", headers)\n",
        "for data in datas:\n",
        "    print(data)\n",
        "\n",
        "count = int(input(\"몇 문재를 풀 것인지 정해주세요.\"))\n",
        "\n",
        "for i in range(count):\n",
        "    Qtype = getQuestionType(datas[i])\n",
        "    print(f\"{i+1}. {Qtype} 형 문제입니다.\")\n",
        "    if(Qtype == \"객관식\"):\n",
        "        printChoiceQ(i,datas[i])\n",
        "    elif(Qtype == \"단답형\"):\n",
        "        print('단답형')\n",
        "    elif(Qtype == \"O, X\"):\n",
        "        print('OX')\n",
        "\n",
        "# print(getQuestionType(datas[0]))"
      ]
    }
  ]
}